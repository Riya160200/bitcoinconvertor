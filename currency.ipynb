{
 "cells": [
  {
   "cell_type": "code",
   "execution_count": null,
   "metadata": {
    "vscode": {
     "languageId": "plaintext"
    }
   },
   "outputs": [],
   "source": [
    "Jupyter: Create New Blank Notebookimport requests\n",
    "import matplotlib.pyplot as plt\n",
    "import pandas as pd\n",
    "import ipywidgets as widgets\n",
    "from IPython.display import display\n",
    "\n",
    "# Your API key\n",
    "api_key = '5fcc7e96adef0371d4868354dcaf8d96'\n",
    "\n",
    "# Currency options\n",
    "currencies = ['USD', 'EUR', 'INR', 'JPY', 'KWD', 'GBP', 'AUD', 'CAD']\n",
    "\n",
    "# Dropdown widgets\n",
    "from_currency = widgets.Dropdown(options=currencies, description='From:')\n",
    "to_currency = widgets.Dropdown(options=currencies, description='To:')\n",
    "\n",
    "# Amount input\n",
    "amount_input = widgets.FloatText(description='Amount:')\n",
    "\n",
    "# Button to trigger conversion\n",
    "button = widgets.Button(description='Convert')\n",
    "\n",
    "def fetch_exchange_rate(from_currency, to_currency):\n",
    "    url = f'http://api.exchangeratesapi.io/v1/latest?access_key={api_key}&symbols={from_currency},{to_currency}'\n",
    "    response = requests.get(url)\n",
    "    data = response.json()\n",
    "    from_rate = data['rates'][from_currency]\n",
    "    to_rate = data['rates'][to_currency]\n",
    "    return from_rate, to_rate\n",
    "\n",
    "def on_button_clicked(b):\n",
    "    from_curr = from_currency.value\n",
    "    to_curr = to_currency.value\n",
    "    amount = amount_input.value\n",
    "    from_rate, to_rate = fetch_exchange_rate(from_curr, to_curr)\n",
    "    converted_amount = (amount / from_rate) * to_rate\n",
    "\n",
    "    # Plotting the result\n",
    "    plt.figure(figsize=(8, 4))\n",
    "    plt.bar([from_curr, to_curr], [amount, converted_amount], color=['blue', 'green'])\n",
    "    plt.title(f'{amount} {from_curr} is equal to {converted_amount:.2f} {to_curr}')\n",
    "    plt.xlabel('Currency')\n",
    "    plt.ylabel('Amount')\n",
    "    plt.show()\n",
    "\n",
    "button.on_click(on_button_clicked)\n",
    "\n",
    "# Display the widgets\n",
    "display(from_currency, to_currency, amount_input, button)"
   ]
  }
 ],
 "metadata": {
  "language_info": {
   "name": "python"
  }
 },
 "nbformat": 4,
 "nbformat_minor": 2
}
